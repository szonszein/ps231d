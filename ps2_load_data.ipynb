{
 "cells": [
  {
   "cell_type": "code",
   "execution_count": 1,
   "id": "3464cc94-341d-407f-8137-0281ce3d0d09",
   "metadata": {
    "vscode": {
     "languageId": "r"
    }
   },
   "outputs": [],
   "source": [
    "rm(list = ls())"
   ]
  },
  {
   "cell_type": "code",
   "execution_count": 2,
   "id": "2ca854d9-368c-4015-8138-574820f50c66",
   "metadata": {
    "vscode": {
     "languageId": "r"
    }
   },
   "outputs": [
    {
     "name": "stderr",
     "output_type": "stream",
     "text": [
      "Installing package into ‘/srv/r’\n",
      "(as ‘lib’ is unspecified)\n",
      "\n",
      "also installing the dependencies ‘dreamerr’, ‘stringmagic’\n",
      "\n",
      "\n"
     ]
    }
   ],
   "source": [
    "install.packages(c('fixest'))"
   ]
  },
  {
   "cell_type": "code",
   "execution_count": null,
   "id": "3083577f-bd71-4ace-8271-6204241bf119",
   "metadata": {
    "vscode": {
     "languageId": "r"
    }
   },
   "outputs": [],
   "source": [
    "\n",
    "library(data.table)\n",
    "library(fixest)\n",
    "library(ggplot2)"
   ]
  },
  {
   "cell_type": "code",
   "execution_count": null,
   "id": "0c59ed7d-6a75-4581-9723-33f4d6fd85e3",
   "metadata": {
    "vscode": {
     "languageId": "r"
    }
   },
   "outputs": [],
   "source": [
    "system(\n",
    "\"wget https://www.dropbox.com/scl/fi/bw2tmsv9qfwk3kz6ywme9/data_subset.csv?rlkey=mora7ivi2c5x1zifprg7h2dcz&st=mr82re4k&dl=0 -O data_subset.csv\",\n",
    ")"
   ]
  },
  {
   "cell_type": "code",
   "execution_count": null,
   "id": "69ba31e0-e833-439f-ab98-dcc552c6b660",
   "metadata": {
    "vscode": {
     "languageId": "r"
    }
   },
   "outputs": [],
   "source": [
    "data <- fread('data_subset.csv')"
   ]
  }
 ],
 "metadata": {
  "kernelspec": {
   "display_name": "R",
   "language": "R",
   "name": "ir"
  },
  "language_info": {
   "codemirror_mode": "r",
   "file_extension": ".r",
   "mimetype": "text/x-r-source",
   "name": "R",
   "pygments_lexer": "r",
   "version": "4.4.2"
  }
 },
 "nbformat": 4,
 "nbformat_minor": 5
}
