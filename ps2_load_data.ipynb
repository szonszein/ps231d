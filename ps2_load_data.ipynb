{
 "cells": [
  {
   "cell_type": "code",
   "execution_count": 1,
   "id": "3464cc94-341d-407f-8137-0281ce3d0d09",
   "metadata": {},
   "outputs": [],
   "source": [
    "rm(list = ls())"
   ]
  },
  {
   "cell_type": "code",
   "execution_count": 1,
   "id": "bdf2952c-41d4-4d6d-a731-b9571c94bda2",
   "metadata": {},
   "outputs": [
    {
     "name": "stderr",
     "output_type": "stream",
     "text": [
      "Installing package into ‘/srv/r’\n",
      "(as ‘lib’ is unspecified)\n",
      "\n"
     ]
    }
   ],
   "source": [
    "install.packages(\"IRkernel\")\n",
    "IRkernel::installspec(user = FALSE)  # Registers the kernel globally (use `user = TRUE` for local install)\n"
   ]
  },
  {
   "cell_type": "code",
   "execution_count": 2,
   "id": "2ca854d9-368c-4015-8138-574820f50c66",
   "metadata": {},
   "outputs": [
    {
     "name": "stderr",
     "output_type": "stream",
     "text": [
      "Installing package into ‘/srv/r’\n",
      "(as ‘lib’ is unspecified)\n",
      "\n",
      "also installing the dependencies ‘dreamerr’, ‘stringmagic’\n",
      "\n",
      "\n"
     ]
    }
   ],
   "source": [
    "install.packages(c('fixest'))"
   ]
  },
  {
   "cell_type": "code",
   "execution_count": 3,
   "id": "3083577f-bd71-4ace-8271-6204241bf119",
   "metadata": {},
   "outputs": [],
   "source": [
    "library(haven)\n",
    "library(data.table)\n",
    "library(fixest)\n",
    "library(ggplot2)"
   ]
  },
  {
   "cell_type": "code",
   "execution_count": 4,
   "id": "0c59ed7d-6a75-4581-9723-33f4d6fd85e3",
   "metadata": {},
   "outputs": [],
   "source": [
    "system(\n",
    "\"wget https://zenodo.org/records/4637111/files/Final%20RESTUD%20main.zip?download=1\",\n",
    ")\n",
    "unzip('./Final RESTUD main.zip?download=1', 'Final RESTUD main/data/main_dataset.dta')"
   ]
  },
  {
   "cell_type": "code",
   "execution_count": null,
   "id": "69ba31e0-e833-439f-ab98-dcc552c6b660",
   "metadata": {},
   "outputs": [],
   "source": [
    "data <- read_dta('Final RESTUD main/data/main_dataset.dta')\n",
    "data <- data.table(data)\n",
    "\n",
    "# Following replication materials, transform treatment, instrument, and control variable to per 100K people\n",
    "cols <- c('blackpop', 'pred_imm_stock', 'totpop')\n",
    "data[ , (cols) := lapply(.SD, \"/\", 100000), .SDcols = cols]"
   ]
  },
  {
   "cell_type": "code",
   "execution_count": null,
   "id": "63a93ccf-2466-43c9-b059-1a55a3355798",
   "metadata": {},
   "outputs": [],
   "source": [
    "data"
   ]
  },
  {
   "cell_type": "code",
   "execution_count": null,
   "id": "7fd1807c-0d23-4ed9-b214-b030bf7311ad",
   "metadata": {},
   "outputs": [],
   "source": []
  }
 ],
 "metadata": {
  "kernelspec": {
   "display_name": "R",
   "language": "R",
   "name": "ir"
  },
  "language_info": {
   "codemirror_mode": "r",
   "file_extension": ".r",
   "mimetype": "text/x-r-source",
   "name": "R",
   "pygments_lexer": "r",
   "version": "4.4.2"
  }
 },
 "nbformat": 4,
 "nbformat_minor": 5
}
